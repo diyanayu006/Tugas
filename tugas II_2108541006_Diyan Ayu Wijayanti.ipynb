{
 "cells": [
  {
   "cell_type": "code",
   "execution_count": 2,
   "id": "9913817b",
   "metadata": {},
   "outputs": [
    {
     "name": "stdout",
     "output_type": "stream",
     "text": [
      "['alpukat', 'jeruk', 'melon', 'jambu']\n"
     ]
    }
   ],
   "source": [
    "buah = ['alpukat', 'jeruk', 'melon', 'jambu']\n",
    "print(buah)"
   ]
  },
  {
   "cell_type": "code",
   "execution_count": 3,
   "id": "617f3b35",
   "metadata": {},
   "outputs": [
    {
     "name": "stdout",
     "output_type": "stream",
     "text": [
      "alpukat\n"
     ]
    }
   ],
   "source": [
    "print(buah[0]) "
   ]
  },
  {
   "cell_type": "code",
   "execution_count": 4,
   "id": "195c2828",
   "metadata": {},
   "outputs": [
    {
     "name": "stdout",
     "output_type": "stream",
     "text": [
      "jeruk\n"
     ]
    }
   ],
   "source": [
    "print(buah[1])"
   ]
  },
  {
   "cell_type": "code",
   "execution_count": 5,
   "id": "c0c693f7",
   "metadata": {},
   "outputs": [
    {
     "name": "stdout",
     "output_type": "stream",
     "text": [
      "melon\n"
     ]
    }
   ],
   "source": [
    "print(buah[-2])"
   ]
  },
  {
   "cell_type": "code",
   "execution_count": 7,
   "id": "9158b5c3",
   "metadata": {},
   "outputs": [
    {
     "name": "stdout",
     "output_type": "stream",
     "text": [
      "alpukat\n"
     ]
    }
   ],
   "source": [
    "print(buah[-4])"
   ]
  },
  {
   "cell_type": "code",
   "execution_count": 13,
   "id": "8de9a9c2",
   "metadata": {},
   "outputs": [
    {
     "name": "stdout",
     "output_type": "stream",
     "text": [
      "['semangka', 'jeruk', 'melon', 'jambu']\n"
     ]
    }
   ],
   "source": [
    "buah[0] = 'semangka'\n",
    "print(buah)"
   ]
  },
  {
   "cell_type": "code",
   "execution_count": 14,
   "id": "cac16a9a",
   "metadata": {},
   "outputs": [
    {
     "name": "stdout",
     "output_type": "stream",
     "text": [
      "['semangka', 'jeruk']\n"
     ]
    }
   ],
   "source": [
    "print(buah[0:2])"
   ]
  },
  {
   "cell_type": "code",
   "execution_count": 15,
   "id": "500ca219",
   "metadata": {},
   "outputs": [
    {
     "name": "stdout",
     "output_type": "stream",
     "text": [
      "['semangka', 'jeruk', 'melon', 'jambu']\n"
     ]
    }
   ],
   "source": [
    "#tidak merubah list\n",
    "print(buah)"
   ]
  },
  {
   "cell_type": "code",
   "execution_count": null,
   "id": "a53f8183",
   "metadata": {},
   "outputs": [],
   "source": []
  },
  {
   "cell_type": "code",
   "execution_count": 17,
   "id": "49e01270",
   "metadata": {},
   "outputs": [
    {
     "name": "stdout",
     "output_type": "stream",
     "text": [
      "['sinta', 'dayu', 'susi', 'nesya', 'indah']\n"
     ]
    }
   ],
   "source": [
    "nama = ['sinta', 'dayu', 'susi', 'nesya']\n",
    "nama.append('indah')\n",
    "print(nama)"
   ]
  },
  {
   "cell_type": "code",
   "execution_count": 32,
   "id": "e7fba7b2",
   "metadata": {},
   "outputs": [
    {
     "name": "stdout",
     "output_type": "stream",
     "text": [
      "['eka', 'eka', 'eka', 'eka', 'eka', 'eka', 'dayu', 'dayu', 'dayu', 'eka', 'eka', 'eka', 'eka', 'sinta', 'dayu', 'susi', 'nesya', 'indah']\n"
     ]
    }
   ],
   "source": [
    "nama.insert(0,'eka')\n",
    "print(nama)"
   ]
  },
  {
   "cell_type": "code",
   "execution_count": 27,
   "id": "ea2957a1",
   "metadata": {},
   "outputs": [
    {
     "name": "stdout",
     "output_type": "stream",
     "text": [
      "['eka', 'dayu', 'dayu', 'dayu', 'eka', 'eka', 'eka', 'eka', 'sinta', 'dayu', 'susi', 'nesya', 'indah']\n"
     ]
    }
   ],
   "source": [
    "nama.remove('eka')\n",
    "print(nama)"
   ]
  },
  {
   "cell_type": "code",
   "execution_count": 34,
   "id": "c4e98e8b",
   "metadata": {},
   "outputs": [
    {
     "name": "stdout",
     "output_type": "stream",
     "text": [
      "True\n"
     ]
    }
   ],
   "source": [
    "print('eka' in nama)"
   ]
  },
  {
   "cell_type": "code",
   "execution_count": 36,
   "id": "9078bf4c",
   "metadata": {},
   "outputs": [
    {
     "name": "stdout",
     "output_type": "stream",
     "text": [
      "True\n"
     ]
    }
   ],
   "source": [
    "print('sinta' in nama)"
   ]
  },
  {
   "cell_type": "code",
   "execution_count": 37,
   "id": "84f946ea",
   "metadata": {},
   "outputs": [
    {
     "name": "stdout",
     "output_type": "stream",
     "text": [
      "False\n"
     ]
    }
   ],
   "source": [
    "print('diyan' in nama)"
   ]
  },
  {
   "cell_type": "code",
   "execution_count": 38,
   "id": "dd4368b7",
   "metadata": {},
   "outputs": [
    {
     "name": "stdout",
     "output_type": "stream",
     "text": [
      "18\n"
     ]
    }
   ],
   "source": [
    "print(len(nama))"
   ]
  },
  {
   "cell_type": "code",
   "execution_count": null,
   "id": "23a865b4",
   "metadata": {},
   "outputs": [],
   "source": []
  },
  {
   "cell_type": "code",
   "execution_count": 39,
   "id": "369acf3d",
   "metadata": {},
   "outputs": [
    {
     "name": "stdout",
     "output_type": "stream",
     "text": [
      "pilot\n",
      "polisi\n",
      "perawat\n",
      "masinis\n"
     ]
    }
   ],
   "source": [
    "profesi = ['pilot', 'polisi', 'perawat', 'masinis']\n",
    "for jenis in profesi:\n",
    "    print(jenis)"
   ]
  },
  {
   "cell_type": "code",
   "execution_count": 48,
   "id": "c0372b03",
   "metadata": {},
   "outputs": [
    {
     "name": "stdout",
     "output_type": "stream",
     "text": [
      "pilot\n"
     ]
    }
   ],
   "source": [
    "i = 0 \n",
    "while i < len(profesi):\n",
    "    print(profesi[i])\n",
    "    i+=4"
   ]
  },
  {
   "cell_type": "code",
   "execution_count": null,
   "id": "0ae6eadc",
   "metadata": {},
   "outputs": [],
   "source": []
  },
  {
   "cell_type": "code",
   "execution_count": 51,
   "id": "33561e78",
   "metadata": {},
   "outputs": [
    {
     "name": "stdout",
     "output_type": "stream",
     "text": [
      "range(0, 15)\n"
     ]
    }
   ],
   "source": [
    "angka = range(15)\n",
    "print(angka)"
   ]
  },
  {
   "cell_type": "code",
   "execution_count": 52,
   "id": "78f9e34e",
   "metadata": {},
   "outputs": [
    {
     "name": "stdout",
     "output_type": "stream",
     "text": [
      "0\n",
      "1\n",
      "2\n",
      "3\n",
      "4\n",
      "5\n",
      "6\n",
      "7\n",
      "8\n",
      "9\n",
      "10\n",
      "11\n",
      "12\n",
      "13\n",
      "14\n"
     ]
    }
   ],
   "source": [
    "for isi in angka:\n",
    "    print(isi)"
   ]
  },
  {
   "cell_type": "code",
   "execution_count": 53,
   "id": "4a649301",
   "metadata": {},
   "outputs": [
    {
     "name": "stdout",
     "output_type": "stream",
     "text": [
      "10\n",
      "11\n",
      "12\n"
     ]
    }
   ],
   "source": [
    "for isi in range(10,13):\n",
    "    print(isi)"
   ]
  },
  {
   "cell_type": "code",
   "execution_count": 58,
   "id": "3fc4c50f",
   "metadata": {},
   "outputs": [
    {
     "name": "stdout",
     "output_type": "stream",
     "text": [
      "3\n"
     ]
    }
   ],
   "source": [
    "for isi in range(3,7,13):\n",
    "    print(isi)"
   ]
  },
  {
   "cell_type": "code",
   "execution_count": 72,
   "id": "1724607a",
   "metadata": {},
   "outputs": [
    {
     "ename": "TypeError",
     "evalue": "'int' object is not subscriptable",
     "output_type": "error",
     "traceback": [
      "\u001b[1;31m---------------------------------------------------------------------------\u001b[0m",
      "\u001b[1;31mTypeError\u001b[0m                                 Traceback (most recent call last)",
      "\u001b[1;32mC:\\Users\\WIJAYA~1\\AppData\\Local\\Temp/ipykernel_7400/398148639.py\u001b[0m in \u001b[0;36m<module>\u001b[1;34m\u001b[0m\n\u001b[0;32m      2\u001b[0m \u001b[0mterbesar\u001b[0m \u001b[1;33m=\u001b[0m \u001b[0mdata\u001b[0m\u001b[1;33m[\u001b[0m\u001b[1;36m1\u001b[0m\u001b[1;33m]\u001b[0m\u001b[1;33m\u001b[0m\u001b[1;33m\u001b[0m\u001b[0m\n\u001b[0;32m      3\u001b[0m \u001b[1;32mfor\u001b[0m \u001b[0mdata\u001b[0m \u001b[1;32min\u001b[0m \u001b[0mrange\u001b[0m\u001b[1;33m(\u001b[0m\u001b[0mlen\u001b[0m\u001b[1;33m(\u001b[0m\u001b[0mdata\u001b[0m\u001b[1;33m)\u001b[0m\u001b[1;33m)\u001b[0m\u001b[1;33m:\u001b[0m\u001b[1;33m\u001b[0m\u001b[1;33m\u001b[0m\u001b[0m\n\u001b[1;32m----> 4\u001b[1;33m     \u001b[1;32mif\u001b[0m \u001b[0mdata\u001b[0m\u001b[1;33m[\u001b[0m\u001b[0mi\u001b[0m\u001b[1;33m]\u001b[0m \u001b[1;33m>\u001b[0m \u001b[0mterbesar\u001b[0m\u001b[1;33m:\u001b[0m\u001b[1;33m\u001b[0m\u001b[1;33m\u001b[0m\u001b[0m\n\u001b[0m\u001b[0;32m      5\u001b[0m         \u001b[0mterbesar\u001b[0m \u001b[1;33m=\u001b[0m \u001b[0mdata\u001b[0m\u001b[1;33m(\u001b[0m\u001b[0mi\u001b[0m\u001b[1;33m)\u001b[0m\u001b[1;33m\u001b[0m\u001b[1;33m\u001b[0m\u001b[0m\n\u001b[0;32m      6\u001b[0m \u001b[0mprint\u001b[0m\u001b[1;33m(\u001b[0m\u001b[0mterbesar\u001b[0m \u001b[1;33m)\u001b[0m\u001b[1;33m\u001b[0m\u001b[1;33m\u001b[0m\u001b[0m\n",
      "\u001b[1;31mTypeError\u001b[0m: 'int' object is not subscriptable"
     ]
    }
   ],
   "source": [
    "data = [1,2,3,4,5,4,3,2,1]\n",
    "terbesar = data[1]\n",
    "for i in range(len(data)):\n",
    "    if data[i] > terbesar:\n",
    "        terbesar = data(i)\n",
    "print(terbesar)"
   ]
  },
  {
   "cell_type": "code",
   "execution_count": 14,
   "id": "dd3d8648",
   "metadata": {},
   "outputs": [
    {
     "name": "stdout",
     "output_type": "stream",
     "text": [
      "[[1, 2, 3, 4], [5, 6, 7, 8, 9], [9, 10, 11, 12], [13, 14, 15, 16]]\n"
     ]
    }
   ],
   "source": [
    "matrik = [\n",
    "    [1,2,3,4],\n",
    "    [5,6,7,8,9],\n",
    "    [9,10,11,12],\n",
    "    [13,14,15,16]\n",
    "]\n",
    "print(matrik)"
   ]
  },
  {
   "cell_type": "code",
   "execution_count": 8,
   "id": "a0796f2a",
   "metadata": {},
   "outputs": [
    {
     "data": {
      "text/plain": [
       "[13, 14, 15, 16]"
      ]
     },
     "execution_count": 8,
     "metadata": {},
     "output_type": "execute_result"
    }
   ],
   "source": [
    "matrik[3]"
   ]
  },
  {
   "cell_type": "code",
   "execution_count": 15,
   "id": "a8007c62",
   "metadata": {},
   "outputs": [
    {
     "data": {
      "text/plain": [
       "9"
      ]
     },
     "execution_count": 15,
     "metadata": {},
     "output_type": "execute_result"
    }
   ],
   "source": [
    "matrik[1][4]"
   ]
  },
  {
   "cell_type": "code",
   "execution_count": 16,
   "id": "f20706f0",
   "metadata": {},
   "outputs": [
    {
     "name": "stdout",
     "output_type": "stream",
     "text": [
      "200\n"
     ]
    }
   ],
   "source": [
    "matrik[1][4]= 200\n",
    "print(matrik[1][4])"
   ]
  },
  {
   "cell_type": "code",
   "execution_count": 17,
   "id": "9041314b",
   "metadata": {},
   "outputs": [
    {
     "data": {
      "text/plain": [
       "[[1, 2, 3, 4], [5, 6, 7, 8, 200], [9, 10, 11, 12], [13, 14, 15, 16]]"
      ]
     },
     "execution_count": 17,
     "metadata": {},
     "output_type": "execute_result"
    }
   ],
   "source": [
    "matrik"
   ]
  },
  {
   "cell_type": "code",
   "execution_count": 18,
   "id": "26907df9",
   "metadata": {},
   "outputs": [
    {
     "name": "stdout",
     "output_type": "stream",
     "text": [
      "[1, 2, 3, 4]\n",
      "1\n",
      "2\n",
      "3\n",
      "4\n",
      "[5, 6, 7, 8, 200]\n",
      "5\n",
      "6\n",
      "7\n",
      "8\n",
      "200\n",
      "[9, 10, 11, 12]\n",
      "9\n",
      "10\n",
      "11\n",
      "12\n",
      "[13, 14, 15, 16]\n",
      "13\n",
      "14\n",
      "15\n",
      "16\n"
     ]
    }
   ],
   "source": [
    "for baris in matrik:\n",
    "    print(baris)\n",
    "    for kolom in baris:\n",
    "        print(kolom)"
   ]
  },
  {
   "cell_type": "code",
   "execution_count": null,
   "id": "d5a15010",
   "metadata": {},
   "outputs": [],
   "source": []
  },
  {
   "cell_type": "code",
   "execution_count": 24,
   "id": "7617fce0",
   "metadata": {},
   "outputs": [],
   "source": [
    "angka = (0,1,1,3,4,5)"
   ]
  },
  {
   "cell_type": "code",
   "execution_count": 27,
   "id": "662517b1",
   "metadata": {},
   "outputs": [
    {
     "name": "stdout",
     "output_type": "stream",
     "text": [
      "5\n"
     ]
    }
   ],
   "source": [
    "print(angka[5])"
   ]
  },
  {
   "cell_type": "code",
   "execution_count": 28,
   "id": "09e67a74",
   "metadata": {},
   "outputs": [
    {
     "name": "stdout",
     "output_type": "stream",
     "text": [
      "(0, 1, 1, 3, 4)\n"
     ]
    }
   ],
   "source": [
    "print(angka[0:5])"
   ]
  },
  {
   "cell_type": "code",
   "execution_count": 29,
   "id": "aa036183",
   "metadata": {},
   "outputs": [
    {
     "name": "stdout",
     "output_type": "stream",
     "text": [
      "0\n",
      "1\n",
      "1\n",
      "3\n",
      "4\n"
     ]
    }
   ],
   "source": [
    "for isi in angka[0:5]:\n",
    "    print(isi)"
   ]
  },
  {
   "cell_type": "code",
   "execution_count": 42,
   "id": "f5a486d6",
   "metadata": {},
   "outputs": [
    {
     "data": {
      "text/plain": [
       "1"
      ]
     },
     "execution_count": 42,
     "metadata": {},
     "output_type": "execute_result"
    }
   ],
   "source": [
    "angka.count(3)"
   ]
  },
  {
   "cell_type": "code",
   "execution_count": 50,
   "id": "0291101f",
   "metadata": {},
   "outputs": [
    {
     "data": {
      "text/plain": [
       "5"
      ]
     },
     "execution_count": 50,
     "metadata": {},
     "output_type": "execute_result"
    }
   ],
   "source": [
    "angka.index(5)"
   ]
  },
  {
   "cell_type": "code",
   "execution_count": null,
   "id": "613d731c",
   "metadata": {},
   "outputs": [],
   "source": []
  },
  {
   "cell_type": "code",
   "execution_count": 55,
   "id": "2fbeb091",
   "metadata": {},
   "outputs": [],
   "source": [
    "data_saya = {\n",
    "    \"nama\" : \"diyan ayu\",\n",
    "    \"umur\": 19,\n",
    "    \"apakah_mahasiswa\": 'true'\n",
    "}"
   ]
  },
  {
   "cell_type": "code",
   "execution_count": 56,
   "id": "99b9e47a",
   "metadata": {},
   "outputs": [
    {
     "name": "stdout",
     "output_type": "stream",
     "text": [
      "diyan ayu\n"
     ]
    }
   ],
   "source": [
    "print(data_saya['nama'])"
   ]
  },
  {
   "cell_type": "code",
   "execution_count": 58,
   "id": "44577842",
   "metadata": {},
   "outputs": [
    {
     "ename": "KeyError",
     "evalue": "'Nama'",
     "output_type": "error",
     "traceback": [
      "\u001b[1;31m---------------------------------------------------------------------------\u001b[0m",
      "\u001b[1;31mKeyError\u001b[0m                                  Traceback (most recent call last)",
      "\u001b[1;32mC:\\Users\\WIJAYA~1\\AppData\\Local\\Temp/ipykernel_8028/398318165.py\u001b[0m in \u001b[0;36m<module>\u001b[1;34m\u001b[0m\n\u001b[1;32m----> 1\u001b[1;33m \u001b[0mprint\u001b[0m\u001b[1;33m(\u001b[0m\u001b[0mdata_saya\u001b[0m\u001b[1;33m[\u001b[0m\u001b[1;34m'Nama'\u001b[0m\u001b[1;33m]\u001b[0m\u001b[1;33m)\u001b[0m\u001b[1;33m\u001b[0m\u001b[1;33m\u001b[0m\u001b[0m\n\u001b[0m",
      "\u001b[1;31mKeyError\u001b[0m: 'Nama'"
     ]
    }
   ],
   "source": [
    "print(data_saya['Nama'])"
   ]
  },
  {
   "cell_type": "code",
   "execution_count": 59,
   "id": "7f326afa",
   "metadata": {},
   "outputs": [
    {
     "name": "stdout",
     "output_type": "stream",
     "text": [
      "diyan ayu\n"
     ]
    }
   ],
   "source": [
    "print(data_saya.get('nama'))"
   ]
  },
  {
   "cell_type": "code",
   "execution_count": 61,
   "id": "103a2028",
   "metadata": {},
   "outputs": [
    {
     "name": "stdout",
     "output_type": "stream",
     "text": [
      "None\n"
     ]
    }
   ],
   "source": [
    "print(data_saya.get(\"Nama\"))"
   ]
  },
  {
   "cell_type": "code",
   "execution_count": 62,
   "id": "fce5b15d",
   "metadata": {},
   "outputs": [
    {
     "name": "stdout",
     "output_type": "stream",
     "text": [
      "None\n"
     ]
    }
   ],
   "source": [
    "print(data_saya.get('tanggal_lahir'))"
   ]
  },
  {
   "cell_type": "code",
   "execution_count": 64,
   "id": "72534bb2",
   "metadata": {},
   "outputs": [
    {
     "name": "stdout",
     "output_type": "stream",
     "text": [
      "16-12-2002\n"
     ]
    }
   ],
   "source": [
    "print(data_saya.get('tanggal_lahir', '16-12-2002'))"
   ]
  },
  {
   "cell_type": "code",
   "execution_count": 65,
   "id": "b1d1d8a5",
   "metadata": {},
   "outputs": [
    {
     "name": "stdout",
     "output_type": "stream",
     "text": [
      "{'nama': 'diyan ayu', 'umur': 19, 'apakah_mahasiswa': 'true'}\n"
     ]
    }
   ],
   "source": [
    "print(data_saya)"
   ]
  },
  {
   "cell_type": "code",
   "execution_count": 68,
   "id": "689e301c",
   "metadata": {},
   "outputs": [
    {
     "ename": "KeyError",
     "evalue": "'tanggal_lahir'",
     "output_type": "error",
     "traceback": [
      "\u001b[1;31m---------------------------------------------------------------------------\u001b[0m",
      "\u001b[1;31mKeyError\u001b[0m                                  Traceback (most recent call last)",
      "\u001b[1;32mC:\\Users\\WIJAYA~1\\AppData\\Local\\Temp/ipykernel_8028/2048660472.py\u001b[0m in \u001b[0;36m<module>\u001b[1;34m\u001b[0m\n\u001b[1;32m----> 1\u001b[1;33m \u001b[0mprint\u001b[0m\u001b[1;33m(\u001b[0m\u001b[0mdata_saya\u001b[0m\u001b[1;33m[\u001b[0m\u001b[1;34m\"tanggal_lahir\"\u001b[0m\u001b[1;33m]\u001b[0m\u001b[1;33m)\u001b[0m\u001b[1;33m\u001b[0m\u001b[1;33m\u001b[0m\u001b[0m\n\u001b[0m",
      "\u001b[1;31mKeyError\u001b[0m: 'tanggal_lahir'"
     ]
    }
   ],
   "source": [
    "print(data_saya[\"tanggal_lahir\"])"
   ]
  },
  {
   "cell_type": "code",
   "execution_count": 69,
   "id": "aa12eb15",
   "metadata": {},
   "outputs": [],
   "source": [
    "data_saya['hp'] = '0895355648813'"
   ]
  },
  {
   "cell_type": "code",
   "execution_count": 70,
   "id": "8c10db4d",
   "metadata": {},
   "outputs": [
    {
     "name": "stdout",
     "output_type": "stream",
     "text": [
      "0895355648813\n"
     ]
    }
   ],
   "source": [
    "print(data_saya['hp'])"
   ]
  },
  {
   "cell_type": "code",
   "execution_count": 71,
   "id": "6d1f9470",
   "metadata": {},
   "outputs": [
    {
     "name": "stdout",
     "output_type": "stream",
     "text": [
      "{'nama': 'diyan ayu', 'umur': 19, 'apakah_mahasiswa': 'true', 'hp': '0895355648813'}\n"
     ]
    }
   ],
   "source": [
    "print(data_saya)"
   ]
  },
  {
   "cell_type": "code",
   "execution_count": 74,
   "id": "a500df82",
   "metadata": {},
   "outputs": [],
   "source": [
    "angka = {\n",
    "    \"0\" : \"nol\",\n",
    "    \"1\" : \"satu\",\n",
    "    \"2\" : \"dua\",\n",
    "    \"3\" : \"tiga\",\n",
    "    \"4\" : \"empat\",\n",
    "    \"5\" : 'lima',\n",
    "    \"6\" : \"enam\",\n",
    "    \"7\" : \"tujuh\",\n",
    "    \"8\" : \"delapan\",\n",
    "    \"9\" : \"sembilan\",\n",
    "}"
   ]
  },
  {
   "cell_type": "code",
   "execution_count": 80,
   "id": "d73a4f61",
   "metadata": {},
   "outputs": [
    {
     "name": "stdout",
     "output_type": "stream",
     "text": [
      "silahkan masukkan nomor hp anda0895355648813\n",
      "nol delapan sembilan lima tiga lima lima enam empat delapan delapan satu tiga \n"
     ]
    }
   ],
   "source": [
    "nomor_hp = input('silahkan masukkan nomor hp anda')\n",
    "nomor_angka = \"\"\n",
    "for isi in nomor_hp :\n",
    "    nomor_angka += angka.get(isi) + \" \"\n",
    "print(nomor_angka)"
   ]
  },
  {
   "cell_type": "code",
   "execution_count": null,
   "id": "df3ada36",
   "metadata": {},
   "outputs": [],
   "source": []
  },
  {
   "cell_type": "code",
   "execution_count": 82,
   "id": "edefd491",
   "metadata": {},
   "outputs": [],
   "source": [
    "def nama_lengkap(nama_awal, nama_akhir):\n",
    "    print(f\"nama lengkapnya adalah {nama_awal} {nama_akhir}\" )"
   ]
  },
  {
   "cell_type": "code",
   "execution_count": 97,
   "id": "d5230f49",
   "metadata": {},
   "outputs": [
    {
     "name": "stdout",
     "output_type": "stream",
     "text": [
      "nama depan anda adalah diyan\n",
      "nama akhir anda adalah ayu\n",
      "diyan ayu\n"
     ]
    }
   ],
   "source": [
    "nama_awal = input(\"nama depan anda adalah \")\n",
    "nama_akhir = input('nama akhir anda adalah ')\n",
    "nama_lengkap = print(nama_awal, nama_akhir)"
   ]
  },
  {
   "cell_type": "code",
   "execution_count": null,
   "id": "ba0e23f9",
   "metadata": {},
   "outputs": [],
   "source": []
  },
  {
   "cell_type": "code",
   "execution_count": 106,
   "id": "9843c45e",
   "metadata": {},
   "outputs": [],
   "source": [
    "def massa_benda(gaya, percepatan):\n",
    "    massa = gaya/percepatan\n",
    "    print(massa)"
   ]
  },
  {
   "cell_type": "code",
   "execution_count": 105,
   "id": "fdf61b34",
   "metadata": {},
   "outputs": [],
   "source": [
    "def massa_berat(gaya, percepatan):\n",
    "    massa  = gaya/percepatan\n",
    "    return massa"
   ]
  },
  {
   "cell_type": "code",
   "execution_count": 102,
   "id": "3e85164f",
   "metadata": {},
   "outputs": [
    {
     "data": {
      "text/plain": [
       "1.5"
      ]
     },
     "execution_count": 102,
     "metadata": {},
     "output_type": "execute_result"
    }
   ],
   "source": [
    "massa_benda(30,20)"
   ]
  },
  {
   "cell_type": "code",
   "execution_count": 109,
   "id": "d176111c",
   "metadata": {},
   "outputs": [
    {
     "data": {
      "text/plain": [
       "2.5"
      ]
     },
     "execution_count": 109,
     "metadata": {},
     "output_type": "execute_result"
    }
   ],
   "source": [
    "massa_berat(50,20)"
   ]
  },
  {
   "cell_type": "code",
   "execution_count": 113,
   "id": "192132c2",
   "metadata": {},
   "outputs": [
    {
     "name": "stdout",
     "output_type": "stream",
     "text": [
      "1.5\n",
      "None\n"
     ]
    }
   ],
   "source": [
    "a = massa_benda(30,20)\n",
    "print(a)"
   ]
  },
  {
   "cell_type": "code",
   "execution_count": 112,
   "id": "13687e67",
   "metadata": {},
   "outputs": [
    {
     "name": "stdout",
     "output_type": "stream",
     "text": [
      "2.5\n"
     ]
    }
   ],
   "source": [
    "b = massa_berat(50,20)\n",
    "print(b)"
   ]
  },
  {
   "cell_type": "code",
   "execution_count": null,
   "id": "9e041b0c",
   "metadata": {},
   "outputs": [],
   "source": []
  },
  {
   "cell_type": "code",
   "execution_count": 114,
   "id": "a6f83ccb",
   "metadata": {},
   "outputs": [],
   "source": [
    "import numpy as np"
   ]
  },
  {
   "cell_type": "code",
   "execution_count": 115,
   "id": "58566276",
   "metadata": {},
   "outputs": [],
   "source": [
    "def luas_segitiga(alasa,tinggi):\n",
    "    luas = (1/2)*alas*tinggi\n",
    "    return luas\n",
    "def luas_lingkaran(jari_jari):\n",
    "    luas = np.pi*(jari_jari**2)\n",
    "    return luas\n",
    "def luas_persegi(sisi):\n",
    "    luas = sisi**2\n",
    "    return luas\n",
    "def luas_persegi_panjang(panjang,lebar):\n",
    "    luas = panjang*lebar\n",
    "    return luas"
   ]
  },
  {
   "cell_type": "code",
   "execution_count": 118,
   "id": "5bb724cf",
   "metadata": {},
   "outputs": [
    {
     "ename": "SyntaxError",
     "evalue": "invalid syntax (Temp/ipykernel_8028/4271752875.py, line 10)",
     "output_type": "error",
     "traceback": [
      "\u001b[1;36m  File \u001b[1;32m\"C:\\Users\\WIJAYA~1\\AppData\\Local\\Temp/ipykernel_8028/4271752875.py\"\u001b[1;36m, line \u001b[1;32m10\u001b[0m\n\u001b[1;33m    print(f\"Luas {jenis_bidang} adalah {luas}\")\u001b[0m\n\u001b[1;37m    ^\u001b[0m\n\u001b[1;31mSyntaxError\u001b[0m\u001b[1;31m:\u001b[0m invalid syntax\n"
     ]
    }
   ],
   "source": [
    "jenis_bidang = input(\"Tuis jenis bidangnya\")\n",
    "if jenis_bidang.upper() == 'SEGITIGA':\n",
    "    alas = float(input('Berapakah panjang alasnya?'))\n",
    "    tinggi = float(input('Berapakah tingginya?'))\n",
    "    luas = luas_segitiga(alas,tinggi)\n",
    "    print(f\"Luas {jenis_bidang} adalah {luas}\")\n",
    "elif jenis_bidang.upper() == 'LINGKARAN':\n",
    "    jari_jari = float(input('Berapakah panjang jari-jarinya?'))\n",
    "    luas = luas_lingkaran(jari_jari\n",
    "    print(f\"Luas {jenis_bidang} adalah {luas}\")\n",
    "elif (jenis_bidang.upper() == 'PERSEGI') or (jenis_bidang.upper() == 'BUJUR SANGKAR'):\n",
    "    sisi = float(input('Berapakah panjang sisinya?'))\n",
    "    luas = luas_persegi(sisi)\n",
    "    print(f\"Luas {jenis_bidang} adalah {luas}\")\n",
    "elif jenis_bidang.upper() == 'PERSEGI PANJANG':\n",
    "     panjang= float(input('Berapakah panjangnya?'))\n",
    "     lebar= float(input('Berapakah lebarnya?'))\n",
    "    luas = luas_persegi_panjang(panjang,lebar)\n",
    "    print(f\"Luas {jenis_bidang} adalah {luas}\")\n",
    "else:\n",
    "    print(f\"Maaf bidang {jenis_bidang} yang anda masukkan tidak ada.\")\n",
    "    print(\"Pilihan hanya SEGITIGA, LINGKARAN, PERSEGI dan PERSEGI PANJANG.\")\n",
    "    print('Terimakasih')"
   ]
  },
  {
   "cell_type": "code",
   "execution_count": null,
   "id": "d7348382",
   "metadata": {},
   "outputs": [],
   "source": []
  }
 ],
 "metadata": {
  "kernelspec": {
   "display_name": "Python 3 (ipykernel)",
   "language": "python",
   "name": "python3"
  },
  "language_info": {
   "codemirror_mode": {
    "name": "ipython",
    "version": 3
   },
   "file_extension": ".py",
   "mimetype": "text/x-python",
   "name": "python",
   "nbconvert_exporter": "python",
   "pygments_lexer": "ipython3",
   "version": "3.9.7"
  }
 },
 "nbformat": 4,
 "nbformat_minor": 5
}
