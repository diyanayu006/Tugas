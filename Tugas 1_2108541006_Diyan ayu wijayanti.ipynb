{
 "cells": [
  {
   "cell_type": "code",
   "execution_count": 1,
   "id": "a43dc234",
   "metadata": {},
   "outputs": [
    {
     "name": "stdout",
     "output_type": "stream",
     "text": [
      "Ini Kelas Algoritma\n"
     ]
    }
   ],
   "source": [
    "print('Ini Kelas Algoritma')"
   ]
  },
  {
   "cell_type": "code",
   "execution_count": 2,
   "id": "6b6ceb60",
   "metadata": {},
   "outputs": [
    {
     "name": "stdout",
     "output_type": "stream",
     "text": [
      "Ini Kelas Algoritma\n"
     ]
    }
   ],
   "source": [
    "print(\"Ini Kelas Algoritma\")"
   ]
  },
  {
   "cell_type": "code",
   "execution_count": 4,
   "id": "234294de",
   "metadata": {},
   "outputs": [
    {
     "name": "stdout",
     "output_type": "stream",
     "text": [
      "susi jelek\n"
     ]
    }
   ],
   "source": [
    "print(\"susi jelek\")"
   ]
  },
  {
   "cell_type": "code",
   "execution_count": 6,
   "id": "1ce68db8",
   "metadata": {},
   "outputs": [
    {
     "name": "stdout",
     "output_type": "stream",
     "text": [
      "I don't understant what are you saying\n"
     ]
    }
   ],
   "source": [
    "print(\"I don't understant what are you saying\")"
   ]
  },
  {
   "cell_type": "code",
   "execution_count": 14,
   "id": "fbe592c9",
   "metadata": {},
   "outputs": [
    {
     "name": "stdout",
     "output_type": "stream",
     "text": [
      "dia \"comel\"\n"
     ]
    }
   ],
   "source": [
    "print('dia \"comel\"')"
   ]
  },
  {
   "cell_type": "code",
   "execution_count": 17,
   "id": "a0e25f20",
   "metadata": {},
   "outputs": [
    {
     "name": "stdout",
     "output_type": "stream",
     "text": [
      "dia 'comel' \n"
     ]
    }
   ],
   "source": [
    "print(\"dia 'comel' \")"
   ]
  },
  {
   "cell_type": "code",
   "execution_count": 26,
   "id": "486be66e",
   "metadata": {},
   "outputs": [
    {
     "name": "stdout",
     "output_type": "stream",
     "text": [
      "10\n",
      "10\n",
      "100\n"
     ]
    }
   ],
   "source": [
    "uang_belanja = 10\n",
    "uang_di_dompet = 10\n",
    "print(uang_belanja)\n",
    "print(uang_di_dompet)\n",
    "print(uang_belanja*uang_di_dompet)"
   ]
  },
  {
   "cell_type": "code",
   "execution_count": 28,
   "id": "424a2feb",
   "metadata": {},
   "outputs": [
    {
     "name": "stdout",
     "output_type": "stream",
     "text": [
      "diyan ayu \n"
     ]
    }
   ],
   "source": [
    "nama_depan = 'diyan '\n",
    "nama_tengah = 'ayu '\n",
    "print(nama_depan + nama_tengah)"
   ]
  },
  {
   "cell_type": "code",
   "execution_count": 29,
   "id": "d6850bbd",
   "metadata": {},
   "outputs": [
    {
     "name": "stdout",
     "output_type": "stream",
     "text": [
      "Siapakah nama anda?diyan\n",
      "Apakah kegiatan anda sekarang, diyan?belajar\n",
      "Semangat belajarnya yah, diyan!\n"
     ]
    }
   ],
   "source": [
    "nama = input(\"Siapakah nama anda?\")\n",
    "kegiatan = input('Apakah kegiatan anda sekarang, ' + nama +\"?\")\n",
    "print(\"Semangat \"+ kegiatan +\"nya yah, \" + nama + \"!\")"
   ]
  },
  {
   "cell_type": "code",
   "execution_count": 30,
   "id": "61f77819",
   "metadata": {},
   "outputs": [
    {
     "name": "stdout",
     "output_type": "stream",
     "text": [
      "Berapakah jumlah uang di dompet anda? 50000\n",
      "Berapakah jumlah uang di bank? 100000\n",
      "Total uang anda adalah Rp 50000100000\n"
     ]
    }
   ],
   "source": [
    "uang_di_dompet = input(\"Berapakah jumlah uang di dompet anda? \")\n",
    "uang_di_bank = input(\"Berapakah jumlah uang di bank? \")\n",
    "print(\"Total uang anda adalah Rp \" + uang_di_dompet + uang_di_bank)"
   ]
  },
  {
   "cell_type": "code",
   "execution_count": 32,
   "id": "7ecf49bd",
   "metadata": {},
   "outputs": [
    {
     "name": "stdout",
     "output_type": "stream",
     "text": [
      "Berapakah jumlah uang di celana anda? 10000\n",
      "Berapakah jumlah uang di baju? 20000\n",
      "Total uang anda adalah Rp 30000\n"
     ]
    }
   ],
   "source": [
    "uang_di_celana = input(\"Berapakah jumlah uang di celana anda? \")\n",
    "uang_di_baju = input(\"Berapakah jumlah uang di baju? \")\n",
    "total_uang = int(uang_di_celana) + int(uang_di_baju)\n",
    "print(\"Total uang anda adalah Rp \" + str(total_uang))"
   ]
  },
  {
   "cell_type": "code",
   "execution_count": 34,
   "id": "ce94f0c5",
   "metadata": {},
   "outputs": [
    {
     "name": "stdout",
     "output_type": "stream",
     "text": [
      "Masukkan bilangan pertama: 1\n",
      "Masukkan bilangan dua: 2\n",
      "Jumlah kedua bilangan adalah 3.0\n"
     ]
    }
   ],
   "source": [
    "bilangan_satu = input(\"Masukkan bilangan pertama: \")\n",
    "bilangan_dua = input(\"Masukkan bilangan dua: \")\n",
    "jumlah = float(bilangan_satu) + float(bilangan_dua)\n",
    "print(\"Jumlah kedua bilangan adalah \" + str(jumlah))"
   ]
  },
  {
   "cell_type": "code",
   "execution_count": 35,
   "id": "44851e9e",
   "metadata": {},
   "outputs": [
    {
     "data": {
      "text/plain": [
       "str"
      ]
     },
     "execution_count": 35,
     "metadata": {},
     "output_type": "execute_result"
    }
   ],
   "source": [
    "type(uang_di_celana)"
   ]
  },
  {
   "cell_type": "code",
   "execution_count": 36,
   "id": "05427fb8",
   "metadata": {},
   "outputs": [
    {
     "data": {
      "text/plain": [
       "int"
      ]
     },
     "execution_count": 36,
     "metadata": {},
     "output_type": "execute_result"
    }
   ],
   "source": [
    "type(200)"
   ]
  },
  {
   "cell_type": "code",
   "execution_count": 38,
   "id": "147c9bf4",
   "metadata": {},
   "outputs": [
    {
     "data": {
      "text/plain": [
       "float"
      ]
     },
     "execution_count": 38,
     "metadata": {},
     "output_type": "execute_result"
    }
   ],
   "source": [
    "type(0.01)"
   ]
  },
  {
   "cell_type": "code",
   "execution_count": 43,
   "id": "33f4d95d",
   "metadata": {},
   "outputs": [
    {
     "data": {
      "text/plain": [
       "bool"
      ]
     },
     "execution_count": 43,
     "metadata": {},
     "output_type": "execute_result"
    }
   ],
   "source": [
    "type(True)"
   ]
  },
  {
   "cell_type": "code",
   "execution_count": null,
   "id": "4aef0729",
   "metadata": {},
   "outputs": [],
   "source": []
  },
  {
   "cell_type": "code",
   "execution_count": 49,
   "id": "80e61456",
   "metadata": {},
   "outputs": [
    {
     "name": "stdout",
     "output_type": "stream",
     "text": [
      "diyanadalah seorangmahasiswayang beralamat dijln. Bulakan Sari Gg. Sandat No.007\n"
     ]
    }
   ],
   "source": [
    "nama = \"diyan\"\n",
    "status = \"mahasiswa\"\n",
    "alamat = \"jln. Bulakan Sari Gg. Sandat No.007\"\n",
    "print(nama + 'adalah seorang' + status + 'yang beralamat di' + alamat)"
   ]
  },
  {
   "cell_type": "code",
   "execution_count": 53,
   "id": "f097101b",
   "metadata": {},
   "outputs": [
    {
     "name": "stdout",
     "output_type": "stream",
     "text": [
      "diyan adalah seorang mahasiswa yang beralamat di jln. Bulakan Sari Gg. Sandat No.007\n"
     ]
    }
   ],
   "source": [
    "print(f'{nama} adalah seorang {status} yang beralamat di {alamat}')"
   ]
  },
  {
   "cell_type": "code",
   "execution_count": 54,
   "id": "e75e4f79",
   "metadata": {},
   "outputs": [
    {
     "name": "stdout",
     "output_type": "stream",
     "text": [
      "diyan adalah seorang mahasiswa yang beralamat di jln. Bulakan Sari Gg. Sandat No.007\n"
     ]
    }
   ],
   "source": [
    "print(f\"{nama} adalah seorang {status} yang beralamat di {alamat}\")"
   ]
  },
  {
   "cell_type": "code",
   "execution_count": null,
   "id": "c149a501",
   "metadata": {},
   "outputs": [],
   "source": []
  },
  {
   "cell_type": "code",
   "execution_count": 69,
   "id": "94f45a9c",
   "metadata": {},
   "outputs": [],
   "source": [
    "kelas = 'ini kelas algoritma'"
   ]
  },
  {
   "cell_type": "code",
   "execution_count": 70,
   "id": "cd560478",
   "metadata": {},
   "outputs": [
    {
     "name": "stdout",
     "output_type": "stream",
     "text": [
      "ini\n"
     ]
    }
   ],
   "source": [
    "print(kelas[0:3])"
   ]
  },
  {
   "cell_type": "code",
   "execution_count": 71,
   "id": "253b8e14",
   "metadata": {},
   "outputs": [
    {
     "name": "stdout",
     "output_type": "stream",
     "text": [
      "ini kelas algoritm\n"
     ]
    }
   ],
   "source": [
    "print(kelas[0:-1])"
   ]
  },
  {
   "cell_type": "code",
   "execution_count": 72,
   "id": "7dc30e8d",
   "metadata": {},
   "outputs": [
    {
     "name": "stdout",
     "output_type": "stream",
     "text": [
      "elas algoritm\n"
     ]
    }
   ],
   "source": [
    "print(kelas[5:-1])"
   ]
  },
  {
   "cell_type": "code",
   "execution_count": 73,
   "id": "92899fb1",
   "metadata": {},
   "outputs": [
    {
     "name": "stdout",
     "output_type": "stream",
     "text": [
      "ieslr\n"
     ]
    }
   ],
   "source": [
    "print(kelas[2:-2:3])"
   ]
  },
  {
   "cell_type": "code",
   "execution_count": 74,
   "id": "5bb07405",
   "metadata": {},
   "outputs": [
    {
     "name": "stdout",
     "output_type": "stream",
     "text": [
      "ini\n"
     ]
    }
   ],
   "source": [
    "print(kelas[:3])"
   ]
  },
  {
   "cell_type": "code",
   "execution_count": 75,
   "id": "e8bc6f76",
   "metadata": {},
   "outputs": [
    {
     "name": "stdout",
     "output_type": "stream",
     "text": [
      "i kelas algoritma\n"
     ]
    }
   ],
   "source": [
    "print(kelas[2:])"
   ]
  },
  {
   "cell_type": "code",
   "execution_count": 76,
   "id": "1c2c11c8",
   "metadata": {},
   "outputs": [
    {
     "name": "stdout",
     "output_type": "stream",
     "text": [
      "ini kelas algoritma\n"
     ]
    }
   ],
   "source": [
    "print(kelas[:])"
   ]
  },
  {
   "cell_type": "code",
   "execution_count": null,
   "id": "3deb23fd",
   "metadata": {},
   "outputs": [],
   "source": []
  },
  {
   "cell_type": "code",
   "execution_count": 77,
   "id": "cedac376",
   "metadata": {},
   "outputs": [],
   "source": [
    "judul = 'the wonderfull of indonesia'"
   ]
  },
  {
   "cell_type": "code",
   "execution_count": 78,
   "id": "e1e2d6ff",
   "metadata": {},
   "outputs": [
    {
     "name": "stdout",
     "output_type": "stream",
     "text": [
      "27\n"
     ]
    }
   ],
   "source": [
    "print(len(judul))"
   ]
  },
  {
   "cell_type": "code",
   "execution_count": 79,
   "id": "ec7aa583",
   "metadata": {},
   "outputs": [
    {
     "data": {
      "text/plain": [
       "'THE WONDERFULL OF INDONESIA'"
      ]
     },
     "execution_count": 79,
     "metadata": {},
     "output_type": "execute_result"
    }
   ],
   "source": [
    "judul.upper()"
   ]
  },
  {
   "cell_type": "code",
   "execution_count": 81,
   "id": "27abe671",
   "metadata": {},
   "outputs": [
    {
     "data": {
      "text/plain": [
       "'the wonderfull of indonesia'"
      ]
     },
     "execution_count": 81,
     "metadata": {},
     "output_type": "execute_result"
    }
   ],
   "source": [
    "judul.lower()"
   ]
  },
  {
   "cell_type": "code",
   "execution_count": 82,
   "id": "bcb53867",
   "metadata": {},
   "outputs": [
    {
     "data": {
      "text/plain": [
       "15"
      ]
     },
     "execution_count": 82,
     "metadata": {},
     "output_type": "execute_result"
    }
   ],
   "source": [
    "judul.find('of')"
   ]
  },
  {
   "cell_type": "code",
   "execution_count": 91,
   "id": "af0fd17e",
   "metadata": {},
   "outputs": [
    {
     "data": {
      "text/plain": [
       "-1"
      ]
     },
     "execution_count": 91,
     "metadata": {},
     "output_type": "execute_result"
    }
   ],
   "source": [
    "judul.find('te')"
   ]
  },
  {
   "cell_type": "code",
   "execution_count": 94,
   "id": "e9f417d7",
   "metadata": {},
   "outputs": [
    {
     "data": {
      "text/plain": [
       "'indonesia wonderfull of indonesia'"
      ]
     },
     "execution_count": 94,
     "metadata": {},
     "output_type": "execute_result"
    }
   ],
   "source": [
    "judul.replace('the','indonesia')"
   ]
  },
  {
   "cell_type": "code",
   "execution_count": 96,
   "id": "74ea8cbc",
   "metadata": {},
   "outputs": [
    {
     "data": {
      "text/plain": [
       "'the wonderfull of indonesia'"
      ]
     },
     "execution_count": 96,
     "metadata": {},
     "output_type": "execute_result"
    }
   ],
   "source": [
    "judul.replace('The', 'indonesia')"
   ]
  },
  {
   "cell_type": "code",
   "execution_count": 97,
   "id": "79e48083",
   "metadata": {},
   "outputs": [
    {
     "name": "stdout",
     "output_type": "stream",
     "text": [
      "False\n"
     ]
    }
   ],
   "source": [
    "print('Bali' in judul)"
   ]
  },
  {
   "cell_type": "code",
   "execution_count": 98,
   "id": "a9ad03f5",
   "metadata": {},
   "outputs": [
    {
     "name": "stdout",
     "output_type": "stream",
     "text": [
      "False\n"
     ]
    }
   ],
   "source": [
    "print(\"Of\" in judul)"
   ]
  },
  {
   "cell_type": "code",
   "execution_count": 99,
   "id": "8a88c357",
   "metadata": {},
   "outputs": [
    {
     "name": "stdout",
     "output_type": "stream",
     "text": [
      "True\n"
     ]
    }
   ],
   "source": [
    "print('of' in judul)"
   ]
  },
  {
   "cell_type": "code",
   "execution_count": null,
   "id": "919fe365",
   "metadata": {},
   "outputs": [],
   "source": []
  },
  {
   "cell_type": "code",
   "execution_count": 100,
   "id": "592ba110",
   "metadata": {},
   "outputs": [
    {
     "name": "stdout",
     "output_type": "stream",
     "text": [
      "13\n"
     ]
    }
   ],
   "source": [
    "print(10+3)"
   ]
  },
  {
   "cell_type": "code",
   "execution_count": 101,
   "id": "4e00d0eb",
   "metadata": {},
   "outputs": [
    {
     "name": "stdout",
     "output_type": "stream",
     "text": [
      "-2\n"
     ]
    }
   ],
   "source": [
    "print(3-5)"
   ]
  },
  {
   "cell_type": "code",
   "execution_count": 102,
   "id": "c3990e93",
   "metadata": {},
   "outputs": [
    {
     "name": "stdout",
     "output_type": "stream",
     "text": [
      "112\n"
     ]
    }
   ],
   "source": [
    "print(16*7)"
   ]
  },
  {
   "cell_type": "code",
   "execution_count": 103,
   "id": "0f1d4314",
   "metadata": {},
   "outputs": [
    {
     "name": "stdout",
     "output_type": "stream",
     "text": [
      "24.4\n"
     ]
    }
   ],
   "source": [
    "print(122/5)"
   ]
  },
  {
   "cell_type": "code",
   "execution_count": 104,
   "id": "9c29cea2",
   "metadata": {},
   "outputs": [
    {
     "name": "stdout",
     "output_type": "stream",
     "text": [
      "24\n"
     ]
    }
   ],
   "source": [
    "print(122//5)"
   ]
  },
  {
   "cell_type": "code",
   "execution_count": 105,
   "id": "0f36963e",
   "metadata": {},
   "outputs": [
    {
     "name": "stdout",
     "output_type": "stream",
     "text": [
      "0\n"
     ]
    }
   ],
   "source": [
    "print(10%5)"
   ]
  },
  {
   "cell_type": "code",
   "execution_count": 107,
   "id": "e58973d8",
   "metadata": {},
   "outputs": [
    {
     "name": "stdout",
     "output_type": "stream",
     "text": [
      "625\n"
     ]
    }
   ],
   "source": [
    "print(5**4)"
   ]
  },
  {
   "cell_type": "code",
   "execution_count": 108,
   "id": "98204b52",
   "metadata": {},
   "outputs": [],
   "source": [
    "x=3"
   ]
  },
  {
   "cell_type": "code",
   "execution_count": 110,
   "id": "79c44678",
   "metadata": {},
   "outputs": [],
   "source": [
    "x+=5"
   ]
  },
  {
   "cell_type": "code",
   "execution_count": 111,
   "id": "4687ef3c",
   "metadata": {},
   "outputs": [
    {
     "name": "stdout",
     "output_type": "stream",
     "text": [
      "8\n"
     ]
    }
   ],
   "source": [
    "print(x)"
   ]
  },
  {
   "cell_type": "code",
   "execution_count": 112,
   "id": "35fd56c3",
   "metadata": {},
   "outputs": [],
   "source": [
    "x-=2"
   ]
  },
  {
   "cell_type": "code",
   "execution_count": 113,
   "id": "4768f78b",
   "metadata": {},
   "outputs": [
    {
     "name": "stdout",
     "output_type": "stream",
     "text": [
      "6\n"
     ]
    }
   ],
   "source": [
    "print(x)"
   ]
  },
  {
   "cell_type": "code",
   "execution_count": 114,
   "id": "99f3babf",
   "metadata": {},
   "outputs": [],
   "source": [
    "x*=1"
   ]
  },
  {
   "cell_type": "code",
   "execution_count": 115,
   "id": "e27cc6a2",
   "metadata": {},
   "outputs": [
    {
     "name": "stdout",
     "output_type": "stream",
     "text": [
      "6\n"
     ]
    }
   ],
   "source": [
    "print(x)"
   ]
  },
  {
   "cell_type": "code",
   "execution_count": null,
   "id": "79a8a2a1",
   "metadata": {},
   "outputs": [],
   "source": []
  },
  {
   "cell_type": "code",
   "execution_count": 120,
   "id": "30559652",
   "metadata": {},
   "outputs": [
    {
     "name": "stdout",
     "output_type": "stream",
     "text": [
      "False\n",
      "True\n",
      "True\n",
      "True\n",
      "True\n",
      "True\n"
     ]
    }
   ],
   "source": [
    "x= 3<1\n",
    "print(x)\n",
    "x = 3<5\n",
    "print(x)\n",
    "x = 6 >= 3\n",
    "print(x)\n",
    "x = 6 <=7\n",
    "print(x)\n",
    "x = 5 == 5\n",
    "print(x)\n",
    "x = 5 != 6\n",
    "print(x)"
   ]
  },
  {
   "cell_type": "code",
   "execution_count": 123,
   "id": "7812e1b9",
   "metadata": {},
   "outputs": [
    {
     "name": "stdout",
     "output_type": "stream",
     "text": [
      "True\n",
      "False\n",
      "False\n",
      "True\n",
      "False\n",
      "False\n"
     ]
    }
   ],
   "source": [
    "x = 4>3\n",
    "print(x)\n",
    "x = 4<4\n",
    "print(x)\n",
    "x = 2 >= 3\n",
    "print(x)\n",
    "x = 3 <= 4\n",
    "print(x)\n",
    "x = 3 == 5\n",
    "print(x)\n",
    "x = 7 != 7\n",
    "print(x)"
   ]
  },
  {
   "cell_type": "code",
   "execution_count": null,
   "id": "3c1aad7a",
   "metadata": {},
   "outputs": [],
   "source": []
  },
  {
   "cell_type": "code",
   "execution_count": 126,
   "id": "91aca3f9",
   "metadata": {},
   "outputs": [
    {
     "name": "stdout",
     "output_type": "stream",
     "text": [
      "False\n"
     ]
    }
   ],
   "source": [
    "buah_jambu = 10\n",
    "buah_naga = 16\n",
    "print(buah_jambu > 8 and buah_naga < 5)"
   ]
  },
  {
   "cell_type": "code",
   "execution_count": 128,
   "id": "fa20473e",
   "metadata": {},
   "outputs": [
    {
     "name": "stdout",
     "output_type": "stream",
     "text": [
      "True\n"
     ]
    }
   ],
   "source": [
    "print(buah_jambu < 11 or buah_naga > 17)"
   ]
  },
  {
   "cell_type": "code",
   "execution_count": 130,
   "id": "4474b5b2",
   "metadata": {},
   "outputs": [
    {
     "name": "stdout",
     "output_type": "stream",
     "text": [
      "False\n"
     ]
    }
   ],
   "source": [
    "print(buah_jambu > 11 or buah_naga > 17)"
   ]
  },
  {
   "cell_type": "code",
   "execution_count": 131,
   "id": "07477117",
   "metadata": {},
   "outputs": [
    {
     "name": "stdout",
     "output_type": "stream",
     "text": [
      "False\n"
     ]
    }
   ],
   "source": [
    "print(not(buah_jambu < 11 or buah_naga >17))"
   ]
  },
  {
   "cell_type": "code",
   "execution_count": null,
   "id": "ab44e11e",
   "metadata": {},
   "outputs": [],
   "source": []
  },
  {
   "cell_type": "code",
   "execution_count": 138,
   "id": "d0b2838f",
   "metadata": {},
   "outputs": [
    {
     "name": "stdout",
     "output_type": "stream",
     "text": [
      "nilai anda adalah40\n",
      "anda mendapat nilai D\n",
      "ulang lagi tahun depan\n"
     ]
    }
   ],
   "source": [
    "nilai = float(input('nilai anda adalah'))\n",
    "if nilai >= 89:\n",
    "    print('good job! anda mendapatkan nilai A')\n",
    "    print('pertahankan prestasimu!')\n",
    "if nilai < 89 and nilai >= 75:\n",
    "    print('good job! anda mendapat nilai B')\n",
    "    print('tingkatkna lagi prestasimu!')\n",
    "if nilai < 75 and nilai >= 50 :\n",
    "    print(\"anda mendapat nilai C\")\n",
    "    print('ayo tingkatkan lagi prestasimu')\n",
    "if nilai < 60:\n",
    "    print('anda mendapat nilai D')\n",
    "    print('ulang lagi tahun depan')"
   ]
  },
  {
   "cell_type": "code",
   "execution_count": 139,
   "id": "d8148361",
   "metadata": {},
   "outputs": [
    {
     "name": "stdout",
     "output_type": "stream",
     "text": [
      "berapakah tinggi anda?155\n",
      "tingginya dalam cm atau inci?cm\n",
      "tinggi anda adalah61.023655000000005inci\n"
     ]
    }
   ],
   "source": [
    "tinggi = float(input('berapakah tinggi anda?'))\n",
    "cm_atau_inci = input('tingginya dalam cm atau inci?')\n",
    "if cm_atau_inci.upper()=='CM':\n",
    "    tinggi = tinggi*0.393701\n",
    "    print('tinggi anda adalah' + str(tinggi) + \"inci\")\n",
    "elif cm_atau_inci.upper() == 'INCI':\n",
    "    tinggi = tinggi/0.393701\n",
    "    print(f'tinggi anda adalah {tinggi} cm')"
   ]
  },
  {
   "cell_type": "code",
   "execution_count": null,
   "id": "b16bb42e",
   "metadata": {},
   "outputs": [],
   "source": []
  },
  {
   "cell_type": "code",
   "execution_count": 148,
   "id": "782ab4bf",
   "metadata": {},
   "outputs": [
    {
     "name": "stdout",
     "output_type": "stream",
     "text": [
      "angka2masih dibawah 6\n",
      "angka3masih dibawah 6\n",
      "angka4masih dibawah 6\n"
     ]
    }
   ],
   "source": [
    "a = 2\n",
    "while a < 5:\n",
    "    print('angka' + str(a) + \"masih dibawah 6\")\n",
    "    a += 1"
   ]
  },
  {
   "cell_type": "code",
   "execution_count": 150,
   "id": "aeecfdf7",
   "metadata": {},
   "outputs": [
    {
     "name": "stdout",
     "output_type": "stream",
     "text": [
      "\n",
      "**\n",
      "****\n"
     ]
    }
   ],
   "source": [
    "a = 0\n",
    "while a < 5:\n",
    "    print(a*'*')\n",
    "    a += 2"
   ]
  },
  {
   "cell_type": "code",
   "execution_count": null,
   "id": "7817e276",
   "metadata": {},
   "outputs": [],
   "source": []
  }
 ],
 "metadata": {
  "kernelspec": {
   "display_name": "Python 3 (ipykernel)",
   "language": "python",
   "name": "python3"
  },
  "language_info": {
   "codemirror_mode": {
    "name": "ipython",
    "version": 3
   },
   "file_extension": ".py",
   "mimetype": "text/x-python",
   "name": "python",
   "nbconvert_exporter": "python",
   "pygments_lexer": "ipython3",
   "version": "3.9.7"
  }
 },
 "nbformat": 4,
 "nbformat_minor": 5
}
